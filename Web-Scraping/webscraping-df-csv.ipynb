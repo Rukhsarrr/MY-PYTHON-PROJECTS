{
 "cells": [
  {
   "cell_type": "code",
   "execution_count": 13,
   "id": "c7c802c2",
   "metadata": {},
   "outputs": [],
   "source": [
    "from bs4 import BeautifulSoup \n",
    "#from urllib.request import urlopen as uReq\n",
    "import requests\n",
    "import csv \n",
    "import pandas as pd\n",
    "url=\"https://www.flipkart.com/search?q=samsung+mobiles&amp;sid=tyy%2C4io&amp;as=on&amp;as-show=on&amp;otracker=AS_QueryStore_HistoryAutoSuggest_0_2&amp;otracker1=AS_QueryStore_HistoryAutoSuggest_0_2&amp;as-pos=0&amp;as-type=HISTORY&amp;as-searchtext=sa\"\n",
    "data = requests.get(url).text\n",
    "soup = BeautifulSoup(data, \"html.parser\")"
   ]
  },
  {
   "cell_type": "code",
   "execution_count": 16,
   "id": "dc03f290",
   "metadata": {},
   "outputs": [
    {
     "name": "stdout",
     "output_type": "stream",
     "text": [
      "Add to CompareSAMSUNG Galaxy F22 (Denim Blue, 128 GB)4.340,126 Ratings & 3,710 Reviews6 GB RAM | 128 GB ROM | Expandable Upto 1 TB16.26 cm (6.4 inch) HD+ Display48MP + 8MP + 2MP + 2MP | 13MP Front Camera6000 mAh Lithium-ion BatteryMediaTek Helio G80 Processor1 Year Warranty Provided by the Manufacturer from Date of Purchase₹13,499₹16,99920% offFree deliveryUpto ₹12,750 Off on Exchange\n"
     ]
    }
   ],
   "source": [
    "product=[]\n",
    "price=[]\n",
    "ratings=[]\n",
    "\n",
    "# to get the first container\n",
    "products=soup.findAll(\"div\",attrs={\"class\":\"_2kHMtA\"})\n",
    "print(products[0].text)"
   ]
  },
  {
   "cell_type": "code",
   "execution_count": 18,
   "id": "02e98ca9",
   "metadata": {},
   "outputs": [],
   "source": [
    "for a in products:\n",
    "    n=a.find(\"div\",attrs={\"class\":\"_4rR01T\"})\n",
    "    p=a.find(\"div\",attrs={\"class\":\"_30jeq3 _1_WHN1\"})\n",
    "    r=a.find(\"div\",attrs={\"class\":\"_3LWZlK\"})\n",
    "    \n",
    "    product.append(n.text)\n",
    "    price.append(p.text)\n",
    "    ratings.append(r.text)\n",
    "    \n",
    "    "
   ]
  },
  {
   "cell_type": "code",
   "execution_count": 19,
   "id": "55967055",
   "metadata": {},
   "outputs": [
    {
     "data": {
      "text/html": [
       "<div>\n",
       "<style scoped>\n",
       "    .dataframe tbody tr th:only-of-type {\n",
       "        vertical-align: middle;\n",
       "    }\n",
       "\n",
       "    .dataframe tbody tr th {\n",
       "        vertical-align: top;\n",
       "    }\n",
       "\n",
       "    .dataframe thead th {\n",
       "        text-align: right;\n",
       "    }\n",
       "</style>\n",
       "<table border=\"1\" class=\"dataframe\">\n",
       "  <thead>\n",
       "    <tr style=\"text-align: right;\">\n",
       "      <th></th>\n",
       "      <th>Product-Name</th>\n",
       "      <th>Product-Price</th>\n",
       "      <th>product-Ratings</th>\n",
       "    </tr>\n",
       "  </thead>\n",
       "  <tbody>\n",
       "    <tr>\n",
       "      <th>0</th>\n",
       "      <td>SAMSUNG Galaxy F22 (Denim Blue, 128 GB)</td>\n",
       "      <td>₹13,499</td>\n",
       "      <td>4.3</td>\n",
       "    </tr>\n",
       "    <tr>\n",
       "      <th>1</th>\n",
       "      <td>SAMSUNG Galaxy F22 (Denim Blue, 64 GB)</td>\n",
       "      <td>₹11,499</td>\n",
       "      <td>4.3</td>\n",
       "    </tr>\n",
       "    <tr>\n",
       "      <th>2</th>\n",
       "      <td>SAMSUNG Galaxy F22 (Denim Black, 128 GB)</td>\n",
       "      <td>₹13,499</td>\n",
       "      <td>4.3</td>\n",
       "    </tr>\n",
       "    <tr>\n",
       "      <th>3</th>\n",
       "      <td>SAMSUNG Galaxy F22 (Denim Black, 64 GB)</td>\n",
       "      <td>₹11,499</td>\n",
       "      <td>4.3</td>\n",
       "    </tr>\n",
       "    <tr>\n",
       "      <th>4</th>\n",
       "      <td>SAMSUNG Galaxy F23 5G (Aqua Blue, 128 GB)</td>\n",
       "      <td>₹16,249</td>\n",
       "      <td>4.1</td>\n",
       "    </tr>\n",
       "  </tbody>\n",
       "</table>\n",
       "</div>"
      ],
      "text/plain": [
       "                                Product-Name Product-Price product-Ratings\n",
       "0    SAMSUNG Galaxy F22 (Denim Blue, 128 GB)       ₹13,499             4.3\n",
       "1     SAMSUNG Galaxy F22 (Denim Blue, 64 GB)       ₹11,499             4.3\n",
       "2   SAMSUNG Galaxy F22 (Denim Black, 128 GB)       ₹13,499             4.3\n",
       "3    SAMSUNG Galaxy F22 (Denim Black, 64 GB)       ₹11,499             4.3\n",
       "4  SAMSUNG Galaxy F23 5G (Aqua Blue, 128 GB)       ₹16,249             4.1"
      ]
     },
     "execution_count": 19,
     "metadata": {},
     "output_type": "execute_result"
    }
   ],
   "source": [
    "df=pd.DataFrame({\"Product-Name\":product,\"Product-Price\":price,\"product-Ratings\":ratings})\n",
    "df.head()\n"
   ]
  },
  {
   "cell_type": "code",
   "execution_count": 20,
   "id": "dbea59a2",
   "metadata": {},
   "outputs": [],
   "source": [
    "df.to_csv(\"products1.csv\")"
   ]
  },
  {
   "cell_type": "code",
   "execution_count": null,
   "id": "b77adaee",
   "metadata": {},
   "outputs": [],
   "source": []
  }
 ],
 "metadata": {
  "kernelspec": {
   "display_name": "Python 3 (ipykernel)",
   "language": "python",
   "name": "python3"
  },
  "language_info": {
   "codemirror_mode": {
    "name": "ipython",
    "version": 3
   },
   "file_extension": ".py",
   "mimetype": "text/x-python",
   "name": "python",
   "nbconvert_exporter": "python",
   "pygments_lexer": "ipython3",
   "version": "3.9.12"
  }
 },
 "nbformat": 4,
 "nbformat_minor": 5
}
